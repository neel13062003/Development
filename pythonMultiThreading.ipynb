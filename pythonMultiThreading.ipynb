{
  "nbformat": 4,
  "nbformat_minor": 0,
  "metadata": {
    "colab": {
      "provenance": [],
      "authorship_tag": "ABX9TyOkGMxbSHAaH1oRgH7N+mcV",
      "include_colab_link": true
    },
    "kernelspec": {
      "name": "python3",
      "display_name": "Python 3"
    },
    "language_info": {
      "name": "python"
    }
  },
  "cells": [
    {
      "cell_type": "markdown",
      "metadata": {
        "id": "view-in-github",
        "colab_type": "text"
      },
      "source": [
        "<a href=\"https://colab.research.google.com/github/neel13062003/Development/blob/master/pythonMultiThreading.ipynb\" target=\"_parent\"><img src=\"https://colab.research.google.com/assets/colab-badge.svg\" alt=\"Open In Colab\"/></a>"
      ]
    },
    {
      "cell_type": "code",
      "execution_count": null,
      "metadata": {
        "colab": {
          "base_uri": "https://localhost:8080/"
        },
        "id": "OgUpMA5gxt4u",
        "outputId": "9b0c30dc-3283-4aa3-b9fa-1a71b4e174ab"
      },
      "outputs": [
        {
          "output_type": "stream",
          "name": "stdout",
          "text": [
            "Error occurred: 'Thread' object is not subscriptable\n",
            "Data fetched from API: {'userId': 1, 'id': 1, 'title': 'sunt aut facere repellat provident occaecati excepturi optio reprehenderit', 'body': 'quia et suscipit\\nsuscipit recusandae consequuntur expedita et cum\\nreprehenderit molestiae ut ut quas totam\\nnostrum rerum est autem sunt rem eveniet architecto'}\n"
          ]
        }
      ],
      "source": [
        "import threading\n",
        "import time\n",
        "import requests\n",
        "import sqlite3\n",
        "from queue import Queue  # Importing the Queue class from the queue module\n",
        "\n",
        "# Function to fetch data from API\n",
        "def fetch_data_from_api():\n",
        "    try:\n",
        "        # Simulating API call\n",
        "        response = requests.get(\"https://jsonplaceholder.typicode.com/posts/1\")\n",
        "        data = response.json()\n",
        "        print(\"Data fetched from API:\", data)\n",
        "        return data\n",
        "    except Exception as e:\n",
        "        error_queue.put(e)\n",
        "\n",
        "# Function to insert data into database\n",
        "def insert_data_into_database(data):\n",
        "    try:\n",
        "        # Simulating database insertion\n",
        "        conn = sqlite3.connect('example.db')\n",
        "        cursor = conn.cursor()\n",
        "        cursor.execute('CREATE TABLE IF NOT EXISTS posts (id INTEGER PRIMARY KEY, title TEXT)')\n",
        "        cursor.execute('INSERT INTO posts (id, title) VALUES (?, ?)', (data['id'], data['title']))\n",
        "        conn.commit()\n",
        "        print(\"Data inserted into database\")\n",
        "    except Exception as e:\n",
        "        error_queue.put(e)\n",
        "\n",
        "# Function to handle errors\n",
        "def handle_errors():\n",
        "    while True:\n",
        "        if not error_queue.empty():\n",
        "            error = error_queue.get()\n",
        "            print(\"Error occurred:\", error)\n",
        "\n",
        "# Queue for handling errors\n",
        "error_queue = Queue()\n",
        "\n",
        "# Creating threads\n",
        "api_thread = threading.Thread(target=fetch_data_from_api)\n",
        "db_thread = threading.Thread(target=insert_data_into_database, args=(api_thread,))\n",
        "error_thread = threading.Thread(target=handle_errors)\n",
        "\n",
        "# Starting threads\n",
        "api_thread.start()\n",
        "db_thread.start()\n",
        "error_thread.start()\n",
        "\n",
        "# Waiting for threads to finish\n",
        "api_thread.join()\n",
        "db_thread.join()\n",
        "error_thread.join()\n",
        "\n",
        "print(\"All threads completed their tasks\")\n"
      ]
    },
    {
      "cell_type": "code",
      "source": [],
      "metadata": {
        "id": "PqrB2-LqzdS2"
      },
      "execution_count": 6,
      "outputs": []
    }
  ]
}